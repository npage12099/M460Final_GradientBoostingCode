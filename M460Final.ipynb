{
 "cells": [
  {
   "cell_type": "markdown",
   "metadata": {},
   "source": [
    "## Image Recognition with Different Models\n",
    "###### Nichole Page, M460"
   ]
  },
  {
   "cell_type": "markdown",
   "metadata": {},
   "source": [
    "#### Import Packages"
   ]
  },
  {
   "cell_type": "code",
   "execution_count": 1,
   "metadata": {},
   "outputs": [],
   "source": [
    "import numpy as np\n",
    "from sklearn.ensemble import RandomForestClassifier\n",
    "import matplotlib.pyplot as plt\n",
    "import seaborn as sns; sns.set()\n",
    "import matplotlib\n",
    " \n",
    "# import the necessary packages\n",
    "from sklearn.model_selection import train_test_split\n",
    "import os\n",
    "import tkinter\n",
    "from os import listdir\n",
    "from PIL import Image"
   ]
  },
  {
   "cell_type": "code",
   "execution_count": 26,
   "metadata": {},
   "outputs": [],
   "source": [
    "#Set the resize\n",
    "dim = 50"
   ]
  },
  {
   "cell_type": "markdown",
   "metadata": {},
   "source": [
    "### Gradient Boosting"
   ]
  },
  {
   "cell_type": "markdown",
   "metadata": {},
   "source": [
    "#### Import Keira Knightley Images"
   ]
  },
  {
   "cell_type": "code",
   "execution_count": 35,
   "metadata": {},
   "outputs": [],
   "source": [
    "mypath = 'C:\\\\Users\\\\student\\\\Desktop\\\\KeiraKnightley'\n",
    "\n",
    "onlyfiles = [f for f in listdir(mypath)]\n",
    "\n",
    "img = Image.open(mypath+'\\\\'+onlyfiles[0])\n",
    "image = img.convert('RGB')\n",
    "image = image.resize((dim, dim))\n",
    "image = np.array(image)\n",
    "image = image.ravel().reshape(1,-1)\n",
    "Xtrain = image\n",
    "\n",
    "for imagePath in onlyfiles:\n",
    "    # load the image, pre-process it, and store it in the data list\n",
    "    img = Image.open(mypath+'\\\\'+imagePath)\n",
    "    image = img.convert('RGB')\n",
    "    image = image.resize((dim, dim))\n",
    "    image = np.array(image)\n",
    "    image = image.ravel().reshape(1,-1)\n",
    "    Xtrain = np.append(Xtrain, image, 0)\n",
    "\n",
    "ytrain = np.zeros(len(Xtrain))"
   ]
  },
  {
   "cell_type": "markdown",
   "metadata": {},
   "source": [
    "#### Import The Not Keira Knightley Images"
   ]
  },
  {
   "cell_type": "code",
   "execution_count": 36,
   "metadata": {},
   "outputs": [],
   "source": [
    "mypath = 'C:\\\\Users\\\\student\\\\Desktop\\\\NotKeiraKnightley'\n",
    "\n",
    "onlyfiles = [f for f in listdir(mypath)]\n",
    "\n",
    "img = Image.open(mypath+'\\\\'+onlyfiles[0])\n",
    "image = img.convert('RGB')\n",
    "image = image.resize((dim, dim))\n",
    "image = np.array(image)\n",
    "image = image.ravel().reshape(1,-1)\n",
    "Xtrain = np.append(Xtrain, image, 0)\n",
    "\n",
    "for imagePath in onlyfiles:\n",
    "    # load the image, pre-process it, and store it in the data list\n",
    "    img = Image.open(mypath+'\\\\'+imagePath)\n",
    "    image = img.convert('RGB')\n",
    "    image = image.resize((dim, dim))\n",
    "    image = np.array(image)\n",
    "    image = image.ravel().reshape(1,-1)\n",
    "    Xtrain = np.append(Xtrain, image, 0)\n",
    "\n",
    "ytrain = np.append(ytrain, np.ones(len(Xtrain)-len(ytrain)))"
   ]
  },
  {
   "cell_type": "markdown",
   "metadata": {},
   "source": [
    "#### Default Gradient Boosting Model"
   ]
  },
  {
   "cell_type": "code",
   "execution_count": 37,
   "metadata": {},
   "outputs": [
    {
     "data": {
      "text/plain": [
       "GradientBoostingClassifier(criterion='friedman_mse', init=None,\n",
       "                           learning_rate=0.1, loss='deviance', max_depth=3,\n",
       "                           max_features=None, max_leaf_nodes=None,\n",
       "                           min_impurity_decrease=0.0, min_impurity_split=None,\n",
       "                           min_samples_leaf=1, min_samples_split=2,\n",
       "                           min_weight_fraction_leaf=0.0, n_estimators=100,\n",
       "                           n_iter_no_change=None, presort='auto',\n",
       "                           random_state=None, subsample=1.0, tol=0.0001,\n",
       "                           validation_fraction=0.1, verbose=0,\n",
       "                           warm_start=False)"
      ]
     },
     "execution_count": 37,
     "metadata": {},
     "output_type": "execute_result"
    }
   ],
   "source": [
    "from sklearn.ensemble import GradientBoostingClassifier\n",
    "model = GradientBoostingClassifier()\n",
    "model.fit(Xtrain, ytrain)"
   ]
  },
  {
   "cell_type": "markdown",
   "metadata": {},
   "source": [
    "#### Tuning "
   ]
  },
  {
   "cell_type": "code",
   "execution_count": null,
   "metadata": {},
   "outputs": [],
   "source": [
    "# Decide what hyperparameter to tune then decide the searching range\n",
    "param_grid = {'n_estimators': np.arange(1,50, 2), 'learning_rate':np.linspace(0.1,1,10)}\n",
    "\n",
    "from sklearn.model_selection import GridSearchCV\n",
    "model = GridSearchCV(GradientBoostingClassifier(), param_grid, cv = 5)\n",
    "model.fit(Xtrain, ytrain)"
   ]
  },
  {
   "cell_type": "code",
   "execution_count": null,
   "metadata": {},
   "outputs": [],
   "source": [
    "# Show the best found paramters\n",
    "print('Best parameters are:', model.best_params_)\n",
    "\n",
    "# Accuracry on training data\n",
    "print('Training Accuracy:', model.score(Xtrain, ytrain))"
   ]
  },
  {
   "cell_type": "markdown",
   "metadata": {},
   "source": [
    "#### Predicting New Images"
   ]
  },
  {
   "cell_type": "code",
   "execution_count": 34,
   "metadata": {},
   "outputs": [],
   "source": [
    "from PIL import Image, ImageDraw\n",
    "\n",
    "\n",
    "mypath = 'C:\\\\Users\\\\student\\\\Desktop\\\\Test'\n",
    "\n",
    "onlyfiles = [f for f in listdir(mypath)]\n",
    "\n",
    "for imagePath in onlyfiles:\n",
    "    # load the image, pre-process it, and store it in the data list\n",
    "    img = Image.open(mypath+'//'+imagePath)\n",
    "    image = img.convert('RGB')\n",
    "    image = image.resize((dim, dim))\n",
    "    image = np.array(image)\n",
    "    image = image.ravel().reshape(1,-1)\n",
    "    if (model.predict(image)==0):\n",
    "        img.save(\"C:\\\\Users\\\\student\\\\Desktop\\\\Pred_Test\\\\is\\\\\" + imagePath)\n",
    "       \n",
    "    else:\n",
    "        img.save(\"C:\\\\Users\\\\student\\\\Desktop\\\\Pred_Test\\\\not\\\\\" +imagePath)\n"
   ]
  },
  {
   "cell_type": "code",
   "execution_count": null,
   "metadata": {},
   "outputs": [],
   "source": []
  }
 ],
 "metadata": {
  "kernelspec": {
   "display_name": "Python 3",
   "language": "python",
   "name": "python3"
  },
  "language_info": {
   "codemirror_mode": {
    "name": "ipython",
    "version": 3
   },
   "file_extension": ".py",
   "mimetype": "text/x-python",
   "name": "python",
   "nbconvert_exporter": "python",
   "pygments_lexer": "ipython3",
   "version": "3.7.3"
  }
 },
 "nbformat": 4,
 "nbformat_minor": 4
}
